{
 "cells": [
  {
   "cell_type": "code",
   "execution_count": 1,
   "id": "7d27fbb0-b28f-445d-8af7-e136b5c42761",
   "metadata": {},
   "outputs": [],
   "source": [
    "import spacy"
   ]
  },
  {
   "cell_type": "code",
   "execution_count": null,
   "id": "99c774f6-e6bc-4164-83f6-66cc63b91eda",
   "metadata": {},
   "outputs": [],
   "source": [
    "from spacy.matcher import Matcher"
   ]
  },
  {
   "cell_type": "code",
   "execution_count": null,
   "id": "85e8ff59-eac3-4190-a81a-ab2630d03b3e",
   "metadata": {},
   "outputs": [],
   "source": [
    "nlp = spacy.load(\"en_core_web_sm\")\n",
    "matcher = Matcher(nlp.vocab)"
   ]
  },
  {
   "cell_type": "code",
   "execution_count": null,
   "id": "db425759-7f57-4fd8-9dc3-f1dd154cc218",
   "metadata": {},
   "outputs": [],
   "source": [
    "doc = nlp(\n",
    "    \"i downloaded Fortnite on my laptop and can't open the game at all. Help? \"\n",
    "    \"so when I was downloading Minecraft, I got the Windows version where it \"\n",
    "    \"is the '.zip' folder and I used the default program to unpack it... do \"\n",
    "    \"I also need to download Winzip?\"\n",
    ")"
   ]
  },
  {
   "cell_type": "code",
   "execution_count": null,
   "id": "86aa03dc-0810-413d-9fea-783230cee448",
   "metadata": {},
   "outputs": [],
   "source": [
    "# Write a pattern that matches a form of \"download\" plus proper noun\n",
    "pattern = [{\"LEMMA\": \"download\"}, {\"POS\": \"PROPN\"}]"
   ]
  },
  {
   "cell_type": "code",
   "execution_count": null,
   "id": "a77af1e5-854c-48ed-a51e-dadd14fcbd2e",
   "metadata": {},
   "outputs": [],
   "source": [
    "# Add the pattern to the matcher and apply the matcher to the doc\n",
    "matcher.add(\"DOWNLOAD_THINGS_PATTERN\", [pattern])\n",
    "matches = matcher(doc)\n",
    "print(\"Total matches found:\", len(matches))"
   ]
  },
  {
   "cell_type": "code",
   "execution_count": 2,
   "id": "2394ab1b-a81d-4978-bd73-8b0b77e9e52c",
   "metadata": {},
   "outputs": [],
   "source": [
    "# Iterate over the matches and print the span text\n",
    "for match_id, start, end in matches:\n",
    "    print(\"Match found:\", doc[start:end].text)"
   ]
  },
  {
   "cell_type": "code",
   "execution_count": null,
   "id": "b48e232f-8462-43e1-8797-4268185a3103",
   "metadata": {
    "tags": []
   },
   "outputs": [],
   "source": [
    "Total matches found: 5\n",
    "Match found: beautiful design\n",
    "Match found: smart search\n",
    "Match found: automatic labels\n",
    "Match found: optional voice\n",
    "Match found: optional voice responses"
   ]
  }
 ],
 "metadata": {
  "kernelspec": {
   "display_name": "Python 3",
   "language": "python",
   "name": "python3"
  },
  "language_info": {
   "codemirror_mode": {
    "name": "ipython",
    "version": 3
   },
   "file_extension": ".py",
   "mimetype": "text/x-python",
   "name": "python",
   "nbconvert_exporter": "python",
   "pygments_lexer": "ipython3",
   "version": "3.8.8"
  }
 },
 "nbformat": 4,
 "nbformat_minor": 5
}
