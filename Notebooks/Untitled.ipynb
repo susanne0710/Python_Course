{
 "cells": [
  {
   "cell_type": "code",
   "execution_count": null,
   "id": "e9208069-c1ce-42ed-a27d-69c17d30b7de",
   "metadata": {},
   "outputs": [],
   "source": [
    "import pandas as pd"
   ]
  },
  {
   "cell_type": "code",
   "execution_count": null,
   "id": "a1d1a657-fcf8-41b5-8756-f51a5cd0c183",
   "metadata": {},
   "outputs": [],
   "source": [
    "tweets = pd.read_csv(\"users/susannekorbel/downloads/archive/train_E6oV3lV.csv\")"
   ]
  }
 ],
 "metadata": {
  "kernelspec": {
   "display_name": "Python 3",
   "language": "python",
   "name": "python3"
  },
  "language_info": {
   "codemirror_mode": {
    "name": "ipython",
    "version": 3
   },
   "file_extension": ".py",
   "mimetype": "text/x-python",
   "name": "python",
   "nbconvert_exporter": "python",
   "pygments_lexer": "ipython3",
   "version": "3.8.8"
  }
 },
 "nbformat": 4,
 "nbformat_minor": 5
}
